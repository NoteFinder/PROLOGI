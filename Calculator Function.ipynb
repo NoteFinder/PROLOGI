{
 "cells": [
  {
   "cell_type": "code",
   "execution_count": null,
   "id": "c9a715fc-5f94-4614-993c-88837a7d7114",
   "metadata": {},
   "outputs": [],
   "source": [
    "# By Sergio Miguel P. Basa\n",
    "def calculator_mode():\n",
    "    print(\"Entering calculator mode...\")\n",
    "    try:\n",
    "        # Asks the user to enter an expression to calculate\n",
    "        expression = input(\"Please enter an expression to calculate. Make sure to use spaces in between (Ex. 1 + 1): \")\n",
    "        # Evaluate the expression and display the result\n",
    "        result = eval(expression)\n",
    "        print(\"Result:\", result)\n",
    "    except Exception as e:\n",
    "        print(\"An error occurred:\", e)"
   ]
  }
 ],
 "metadata": {
  "kernelspec": {
   "display_name": "Python 3 (ipykernel)",
   "language": "python",
   "name": "python3"
  },
  "language_info": {
   "codemirror_mode": {
    "name": "ipython",
    "version": 3
   },
   "file_extension": ".py",
   "mimetype": "text/x-python",
   "name": "python",
   "nbconvert_exporter": "python",
   "pygments_lexer": "ipython3",
   "version": "3.11.5"
  }
 },
 "nbformat": 4,
 "nbformat_minor": 5
}
