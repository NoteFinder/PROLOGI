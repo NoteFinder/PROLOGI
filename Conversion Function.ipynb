{
 "cells": [
  {
   "cell_type": "code",
   "execution_count": 3,
   "id": "bba43a32",
   "metadata": {},
   "outputs": [],
   "source": [
    "def unit_converter():\n",
    "    print(\"Welcome to the Unit Converter!\")\n",
    "    print(\"Please choose your conversion:\")\n",
    "    print(\"1. English to Metric\")\n",
    "    print(\"2. Metric to English\")\n",
    "\n",
    "    choice = input(\"Enter your choice (1 or 2): \")\n",
    "\n",
    "    if choice == \"1\":\n",
    "        from_unit = input(\"Enter the unit you want to convert from (inches, feet, yards, miles): \")\n",
    "        to_unit = input(\"Enter the unit you want to convert to (cm, meters, km): \")\n",
    "        value = float(input(f\"Enter the value in {from_unit}: \"))\n",
    "        result = convert_length(value, from_unit, to_unit)\n",
    "        print(f\"{value} {from_unit} is equal to {result} {to_unit}\")\n",
    "    elif choice == \"2\":\n",
    "        from_unit = input(\"Enter the unit you want to convert from (cm, meters, km): \")\n",
    "        to_unit = input(\"Enter the unit you want to convert to (inches, feet, yards, miles): \")\n",
    "        value = float(input(f\"Enter the value in {from_unit}: \"))\n",
    "        result = convert_length(value, from_unit, to_unit)\n",
    "        print(f\"{value} {from_unit} is equal to {result} {to_unit}\")\n",
    "    else:\n",
    "        print(\"Invalid input! Please input 1 or 2.\")\n",
    "\n",
    "def convert_length(value, from_unit, to_unit):\n",
    "    conversion_data = {\n",
    "        \"units\": [\"inches\", \"feet\", \"yards\", \"miles\", \"cm\", \"meters\", \"km\"],\n",
    "        \"to_meters\": {\"inches\": 0.0254, \"feet\": 0.3048, \"yards\": 0.9144, \"miles\": 1609.34, \"cm\": 0.01, \"meters\": 1, \"km\": 1000},\n",
    "        \"from_meters\": {\"inches\": 39.3701, \"feet\": 3.28084, \"yards\": 1.09361, \"miles\": 0.000621371, \"cm\": 100, \"meters\": 1, \"km\": 0.001}\n",
    "    }\n",
    "\n",
    "    if from_unit in conversion_data[\"units\"] and to_unit in conversion_data[\"units\"]:\n",
    "        value_meters = value * conversion_data[\"to_meters\"].get(from_unit)\n",
    "        result = value_meters * conversion_data[\"from_meters\"].get(to_unit)\n",
    "        return result\n",
    "    else:\n",
    "        print(\"Invalid units provided.\")\n",
    "        return None"
   ]
  },
  {
   "cell_type": "code",
   "execution_count": null,
   "id": "2de0a6a4",
   "metadata": {},
   "outputs": [],
   "source": []
  }
 ],
 "metadata": {
  "kernelspec": {
   "display_name": "Python 3 (ipykernel)",
   "language": "python",
   "name": "python3"
  },
  "language_info": {
   "codemirror_mode": {
    "name": "ipython",
    "version": 3
   },
   "file_extension": ".py",
   "mimetype": "text/x-python",
   "name": "python",
   "nbconvert_exporter": "python",
   "pygments_lexer": "ipython3",
   "version": "3.11.5"
  }
 },
 "nbformat": 4,
 "nbformat_minor": 5
}
