{
 "cells": [
  {
   "cell_type": "code",
   "execution_count": 2,
   "id": "84203b15",
   "metadata": {},
   "outputs": [
    {
     "name": "stdout",
     "output_type": "stream",
     "text": [
      "Welcome To Engineer's Toolbox!!!\n",
      "Select a tool by entering a number: \n",
      "1. Conversion\n",
      "2. Engineering Units Formulas\n",
      "3. Calculator\n",
      "4. Exit Program\n",
      "4\n",
      "Thank you for using Engineer's Toolbox!!\n"
     ]
    }
   ],
   "source": [
    "while True:\n",
    "    print(\"Welcome To Engineer's Toolbox!!!\")\n",
    "    print(\"Select a tool by entering a number: \\n1. Conversion\\n2. Engineering Units Formulas\\n3. Calculator\\n4. Exit Program\")\n",
    "    num = int(input())\n",
    "    if num == 1:\n",
    "        unit_converter() #placeholder\n",
    "    elif num == 2:\n",
    "        unit_formula() #placeholder\n",
    "    elif num == 3:\n",
    "        calculator_mode()#placeholder\n",
    "    elif num == 4:\n",
    "        print(\"Thank you for using Engineer's Toolbox!!\")\n",
    "        break;\n",
    "    else:\n",
    "        print(\"Error: Invalid number! Please Try Again\")"
   ]
  },
  {
   "cell_type": "code",
   "execution_count": null,
   "id": "eb05ec92",
   "metadata": {},
   "outputs": [],
   "source": []
  },
  {
   "cell_type": "code",
   "execution_count": null,
   "id": "f9a53c8a",
   "metadata": {},
   "outputs": [],
   "source": []
  }
 ],
 "metadata": {
  "kernelspec": {
   "display_name": "Python 3 (ipykernel)",
   "language": "python",
   "name": "python3"
  },
  "language_info": {
   "codemirror_mode": {
    "name": "ipython",
    "version": 3
   },
   "file_extension": ".py",
   "mimetype": "text/x-python",
   "name": "python",
   "nbconvert_exporter": "python",
   "pygments_lexer": "ipython3",
   "version": "3.11.5"
  }
 },
 "nbformat": 4,
 "nbformat_minor": 5
}
